{
 "cells": [
  {
   "cell_type": "markdown",
   "metadata": {},
   "source": [
    "<font face=\"Georgia\" size=\"3\" color=\"#007acc\">\n",
    "   <div align=\"center\">\n",
    "    <h1><strong>Tecnológico de Monterrey</strong></h1>\n",
    "        <h1><strong>Campus Querétaro</strong></h1>\n",
    "        <h1>Analítica de datos y herramientas de inteligencia artificial II</h1>\n",
    "        <h3>Grupo 501</h3>\n",
    "    <h4><strong>Actividad 7 (Regresión Logística)</strong></h4>\n",
    "           <h4>A01378047 Ana Michele Hay Robles</h4>\n",
    "           <h4></h4>\n",
    "           <h4></h4>\n",
    "           <h4>23 de octubre 2023</h4>\n",
    "    </div>\n",
    "\n",
    "</font>\n",
    "</div>"
   ]
  },
  {
   "cell_type": "code",
   "execution_count": 2,
   "metadata": {},
   "outputs": [],
   "source": [
    "#Cargamos librerias\n",
    "import pandas as pd\n",
    "import numpy as np\n",
    "import matplotlib.pyplot as plt\n",
    "import scipy.special as special\n",
    "from scipy.optimize import curve_fit\n",
    "import seaborn as sns\n",
    "from sklearn.metrics import r2_score\n",
    "from sklearn.model_selection import train_test_split\n",
    "from sklearn.preprocessing import StandardScaler"
   ]
  },
  {
   "cell_type": "code",
   "execution_count": null,
   "metadata": {},
   "outputs": [],
   "source": []
  }
 ],
 "metadata": {
  "kernelspec": {
   "display_name": "clase",
   "language": "python",
   "name": "python3"
  },
  "language_info": {
   "codemirror_mode": {
    "name": "ipython",
    "version": 3
   },
   "file_extension": ".py",
   "mimetype": "text/x-python",
   "name": "python",
   "nbconvert_exporter": "python",
   "pygments_lexer": "ipython3",
   "version": "3.9.6"
  }
 },
 "nbformat": 4,
 "nbformat_minor": 2
}
